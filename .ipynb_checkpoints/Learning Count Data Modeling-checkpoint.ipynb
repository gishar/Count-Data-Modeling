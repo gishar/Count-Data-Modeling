{
 "cells": [
  {
   "cell_type": "markdown",
   "id": "5ec46b9d",
   "metadata": {},
   "source": [
    "# Introduction\n",
    "It is my intention in this file to teach myself about count data models and the ins and outs of this type of regression modeling with some examples and discussions of what is what and what they mean. Fingers crossed! I will then try to apply what I learned to traffic crash data in order to develop safety performance functions per the guidelines in [HSM](https://www.highwaysafetymanual.org/Pages/default.aspx)"
   ]
  },
  {
   "cell_type": "markdown",
   "id": "7be34ea6",
   "metadata": {},
   "source": [
    "# Types of Models\n",
    "Alright, so a little intro for myself on the various types of models on the data and why and how count models are different from the rest!\n",
    "Obviously there area ton of modeling techniques, and what choice of model to use depends on the nature of the data and the research question you're dealing with. For example, \n",
    "1. Linear regression: To model the relationship between a **continuous dependent variable** and one or more independent variables.\n",
    "2. Logistic regression: To model a **binary or categorical dependent variable** where the goal is to predict the probability of a certain outcome.\n",
    "3. Poisson regression: To model **count data** where the goal is to predict the rate at which events occur.\n",
    "4. Negative binomial regression, NB in short: To model **over-dispersed count data** where simple Poisson modeling technique is not reliable due to limitation in the modeling assumptions.\n",
    "5. Time series analysis: To model **data that changes over time**, such as stock prices or weather patterns.\n",
    "6. Survival analysis: To model the **time until an event occurs**, such as time until a patient dies or time until a machine fails.\n",
    "7. Random forest: An ML technique to model **complex relationships between variables** usually where there are many independent variables.\n",
    "8. Neural networks: Also an ML technique used to model **complex relationships between variables** similar to random forest for when there are many independent variables.\n",
    "\n",
    "Why I am doing count modeling (i.e. will be doing # 3 and 4 and maybe others from above) is because that is my professional subject area with regards to traffic crash counts and how to predict them based on various types of categories which will come up later on.\n",
    "\n",
    "So, I know that linear regression is not my modeling technique becasue <u>count data is discrete, non-negative, and often follows a skewed distribution</u>. <u>Linear regression models assume that the dependent variable is continuous and normally distributed</u>, which is not the case for count data. Using linear regression for count data violates the assumptions of the model, leading to biased and inefficient estimates, incorrect standard errors, and unreliable hypothesis tests. Furthermore, the predicted values can be negative, which is not possible for count data.\n",
    "\n",
    "I also know that I can't use logistic regression for count data because that model assumes that the response variable follows a *Bernoulli distribution*, which is a discrete probability distribution that models the probability of a single event occurring in a single trial. But, count data often follows a Poisson or negative binomial distribution.\n",
    "\n",
    "Nonetheless, let's pull in some count data and try various models and discuss results."
   ]
  },
  {
   "cell_type": "markdown",
   "id": "a5e16911",
   "metadata": {},
   "source": [
    "# Importing Libraries / Setting Options\n",
    "I update this section every time I need to import a new library as I make progress. I just have an obsession to do all of the imports and options for how to show numbers, digits, outputs in one place rather than sporadically throughout my work."
   ]
  },
  {
   "cell_type": "code",
   "execution_count": null,
   "id": "ac8178fa",
   "metadata": {},
   "outputs": [],
   "source": [
    "# Loading multiple libraries as needed in one line\n",
    "lapply(c(\"tidyverse\", \"skimr\", \"AER\", \"ggplot2\", \"psych\", \"MASS\"), \n",
    "       require, \n",
    "       character.only = T)\n",
    "\n",
    "# Have enough width for output so some are not shifted to next line!\n",
    "options(width = 120)"
   ]
  },
  {
   "cell_type": "code",
   "execution_count": null,
   "id": "36ed9e40",
   "metadata": {},
   "outputs": [],
   "source": [
    "# Specify number of significant decimal digits when printing output\n",
    "options(digits = 3)"
   ]
  },
  {
   "cell_type": "markdown",
   "id": "6238d4bf",
   "metadata": {},
   "source": [
    "Here are several count data that can come handy, although I am not using all of them. Just writing them down for reference:\n",
    "- Number of rooms data from the Boston dataset in `MASS` library\n",
    "- Number of seizures for Epileptics from Epil datasets in `MASS` library\n",
    "- Number of sattelite (unpaired) crabs from the Crabs dataset in `glmbb` library\n",
    "- Number of claims from Insurance dataset in `countreg` library\n",
    "- Number of affairs from Affairs dataset in `AER` library (AER for Applied Econometrics with R)\n",
    "- Number of visits from DoctorVisits dataset in `AER` library\n",
    "- Number of doctor visits from Medicaid1986 dataset in `AER` library\n",
    "- Number of accidents from ShipAccidents dataset in `AER` library\n",
    "- Number of derogetory reports from the CreditCard dataset in `AER` library\n",
    "- Number of articles from PhDPublications dataset in `AER` library\n",
    "- Number of kids from GSS7402 dataset in `AER` library\n",
    "- Several count variables in NMES1988 dataset (medical care) `AER` library\n",
    "- Several count variables in EquationCitations datasets in `AER` library\n",
    "- A count dataset from this [Kaggle Page](https://www.kaggle.com/datasets/pablomonleon/montreal-bike-lanes) that contains information on the Number of bicycles that used certain bicycle lanes in Montreal in the year 2015. I removed a couple columns and changed some of the names for simplicity.\n",
    "- A [roadway inventory dataset](https://geo-massdot.opendata.arcgis.com/datasets/MassDOT::road-inventory/about) from MassDOT's open data website. This data includes annual average daily tarffic (AADT) for various roads in MA along with other road properties for each segment. I made the data much lighter to handle by removing many rows some variables for the sake of my learning.\n",
    "\n",
    "I am going to use the PhDPublications dataset to start my count modeling with."
   ]
  },
  {
   "cell_type": "code",
   "execution_count": null,
   "id": "f4a6fd51",
   "metadata": {},
   "outputs": [],
   "source": [
    "bikes  <-  read.csv(\"MontrealBL.csv\")\n",
    "aadt  <- read.csv(\"RoadInventorysample.csv\")\n",
    "aadt <- aadt[complete.cases(aadt$AADT),]"
   ]
  },
  {
   "cell_type": "code",
   "execution_count": null,
   "id": "ffb11529",
   "metadata": {},
   "outputs": [],
   "source": [
    "data(\"PhDPublications\")"
   ]
  },
  {
   "cell_type": "markdown",
   "id": "dd245745",
   "metadata": {},
   "source": [
    "# EDA / Descriptive Statistics\n",
    "First, let's look at the dataset, the variables and their types in the PhDPublications dataset. Then Let's take a quick look at some descriptive statistics about these variables and some visualization to know our data better as well."
   ]
  },
  {
   "cell_type": "code",
   "execution_count": null,
   "id": "1e16b621",
   "metadata": {},
   "outputs": [],
   "source": [
    "print(head(PhDPublications, 3)) # I like using print but don't have to"
   ]
  },
  {
   "cell_type": "markdown",
   "id": "f92efaf2",
   "metadata": {},
   "source": [
    "There is the number `articles` (my count variable!). Then there are the binary variables of `gender` and `married`. There is another count variable `kids` which in this context is more like an explanatory variable than response. `prestige` is a continuous variable tha shows the prestige score of the program, and `mentor` is another nice count variable which shows the articles count published by the student's mentor."
   ]
  },
  {
   "cell_type": "code",
   "execution_count": null,
   "id": "1276a6ac",
   "metadata": {},
   "outputs": [],
   "source": [
    "glimpse(PhDPublications)"
   ]
  },
  {
   "cell_type": "code",
   "execution_count": null,
   "id": "96bff3a7",
   "metadata": {},
   "outputs": [],
   "source": [
    "summary(PhDPublications)"
   ]
  },
  {
   "cell_type": "code",
   "execution_count": null,
   "id": "476895b3",
   "metadata": {},
   "outputs": [],
   "source": [
    "print(describe(PhDPublications))"
   ]
  },
  {
   "cell_type": "code",
   "execution_count": null,
   "id": "c8ecee78",
   "metadata": {},
   "outputs": [],
   "source": [
    "cat(\"frequency table of the number of articles:\")\n",
    "table(PhDPublications$articles)"
   ]
  },
  {
   "cell_type": "code",
   "execution_count": null,
   "id": "7cd052e7",
   "metadata": {},
   "outputs": [],
   "source": [
    "hist(PhDPublications$articles, \n",
    "     breaks = 30,\n",
    "     main = \"Frequency of Article Counts\",\n",
    "     col = 2,\n",
    "     xlab = \"Number of Articles\")"
   ]
  },
  {
   "cell_type": "markdown",
   "id": "71698efe",
   "metadata": {},
   "source": [
    "- Number of articles published by students vary between 0-19 with an average of ~ 1.7 and intersetingly. With median of smaller than mean and so large a range, this is skewed to the right distribution and the skew and kutosis shows this too.\n",
    "- Number of articles for the mentors vary between 0-77 with an average of ~ 8.8. \n",
    "- Number of kids was not so high with a max of 3\n",
    "\n",
    "Let's see how things are once grouped for gender and/or marital status, specifically, since I'm dealing with count data and overdispersion usually bites me when dealing with count data! I would like to look at mean and variance specifically becasue one of the assumptions when working with Poisson model (which is used to model count data, more details later) is that mean and variance are equal, so keeping an eye on these two rascals may provide some insight."
   ]
  },
  {
   "cell_type": "code",
   "execution_count": 21,
   "id": "7e8e7cd7",
   "metadata": {},
   "outputs": [
    {
     "name": "stdout",
     "output_type": "stream",
     "text": [
      "\u001b[90m# A tibble: 4 × 10\u001b[39m\n",
      "  married gender Average Variance VarOverMean Median Minimum Maximum Range Counts\n",
      "  \u001b[3m\u001b[90m<fct>\u001b[39m\u001b[23m   \u001b[3m\u001b[90m<fct>\u001b[39m\u001b[23m    \u001b[3m\u001b[90m<dbl>\u001b[39m\u001b[23m    \u001b[3m\u001b[90m<dbl>\u001b[39m\u001b[23m       \u001b[3m\u001b[90m<dbl>\u001b[39m\u001b[23m  \u001b[3m\u001b[90m<dbl>\u001b[39m\u001b[23m   \u001b[3m\u001b[90m<int>\u001b[39m\u001b[23m   \u001b[3m\u001b[90m<int>\u001b[39m\u001b[23m \u001b[3m\u001b[90m<int>\u001b[39m\u001b[23m  \u001b[3m\u001b[90m<int>\u001b[39m\u001b[23m\n",
      "\u001b[90m1\u001b[39m no      male      1.95     4.05        2.08      1       0       7     7    113\n",
      "\u001b[90m2\u001b[39m no      female    1.39     2.28        1.64      1       0       7     7    196\n",
      "\u001b[90m3\u001b[39m yes     male      1.86     4.97        2.66      1       0      19    19    381\n",
      "\u001b[90m4\u001b[39m yes     female    1.54     2.52        1.63      1       0      10    10    225\n"
     ]
    }
   ],
   "source": [
    "PhDPublications %>% \n",
    "     group_by(married, gender) %>% \n",
    "     summarise(Average = mean(articles),\n",
    "               Variance = var(articles),\n",
    "               VarOverMean = var(articles)/mean(articles), # see the ratio of variance/mean for insight\n",
    "               Median = median(articles),\n",
    "               Minimum = min(articles),\n",
    "               Maximum = max(articles),\n",
    "               Range = max(articles) - min(articles),\n",
    "               Counts = n(),\n",
    "               .groups = 'drop') %>% \n",
    "                print()"
   ]
  },
  {
   "cell_type": "markdown",
   "id": "8efcb578",
   "metadata": {},
   "source": [
    "This stat tell me that:\n",
    "- my data contains almost 4 times the number of married males than single males and twice that of single females! \n",
    "- in general seems maximum number of articles for married people are higher! Does that mean married life is more encouraging?\n",
    "- average number of articles is highers for single males followed by married males! Seems men are doing better than females. \n",
    "- it seems maybe there is an interaction effect between gender and marital status.\n",
    "- because there is a good skew in the distribution median is a better measure of central tendency and we it for all is 1\n",
    "\n",
    "# EDA / Visual\n",
    "this was just some observations made based on the data, and we will see how each variable or their interaction affects number of articles published. for the moment, let's look at the histogram for the same groupings:"
   ]
  },
  {
   "cell_type": "code",
   "execution_count": null,
   "id": "9bf7ae69",
   "metadata": {},
   "outputs": [],
   "source": [
    "options(repr.plot.width=15, repr.plot.height=6) # to define dimensions for the chart area! I stteled on these numbers!\n",
    "PhDPublications %>% \n",
    "     ggplot(aes(x = articles,\n",
    "                fill = 'brown')) +\n",
    "     geom_histogram(binwidth = 1,\n",
    "                    col = 'black',\n",
    "                    show.legend = F,\n",
    "                    alpha = 0.6) +\n",
    "     labs(title = \"Histogram of number of article by gender and marital status\",\n",
    "          x = \"Articles\",\n",
    "          y = \"Frequency\") +\n",
    "     facet_wrap(gender ~ married,\n",
    "                nrow = 1)"
   ]
  },
  {
   "cell_type": "code",
   "execution_count": null,
   "id": "dd70f8e5",
   "metadata": {},
   "outputs": [],
   "source": [
    "options(repr.plot.width=NULL, repr.plot.height=NULL) # to revert the values to the default so my boxplot looks better\n",
    "boxplot(articles ~ gender + married, \n",
    "        PhDPublications,\n",
    "        col = \"gold2\")"
   ]
  },
  {
   "cell_type": "markdown",
   "id": "a1fcdb7b",
   "metadata": {},
   "source": [
    "first of all, I never thought plots and specifically those done with ggplot in Jupyter show in such quality! Sorry about that! but anyhow:\n",
    "- I don't see a whole lot of difference between the distributions between categories, medians are all 1\n",
    "- there is a higher IQR for males than females obviously and seem there is a high variability for married males which can also be verified by their variance to mean value being the highest among these four groups! "
   ]
  },
  {
   "cell_type": "markdown",
   "id": "a416a021",
   "metadata": {},
   "source": [
    "# Modeling - Poisson\n",
    "Now, it's time to do some modeling. So what it the purpose of this model. I have to say I don't have a research question in mind but just trying to learn count modeling for which I have a myriad of questions when it comes to traffic volume and accident data. So on this one, I'll just have to make up: \n",
    "\n",
    "### What is the question?\n",
    "Let's go with these questions, we have all these in the dataset to help us discuss things: *<u>Is the number of publications a person have related to their gender? to their marital status? their school program? their advisors? how about if they have any childred?*</u>"
   ]
  },
  {
   "cell_type": "markdown",
   "id": "7d5982ce",
   "metadata": {},
   "source": [
    "Back to the types of model, etc., and the discussion that linear regression is not cool with count data and we should use Poisson. We can use the **generalized linear model** approach that allows the dependent variable to follow other types of distributions,  e.g. in logistic regression the response variable is modeled to follow a Bernoulli distribution with a Logit link function, or in Poisson regression, response follows a Poisson distribution, and so on.\n",
    "> In the context of generalized linear models (GLMs), the link function is used to relate the linear predictor to the response variable. It is a mathematical function that <u>transforms the expected value of the response variable</u>, which then can be modeled as a linear combination of the predictor variables. this transformation is done using some function which is called the link function. In other words, the link function defines how the expected value of the response variable depends on the values of the predictor variables. For example, in a Poisson regression model, the link function is typically the natural logarithm, which transforms the expected value of the response variable to the log scale:\n",
    "\t\t$$ log(μ)= β_0+β_1 x_1+β_2 x_2+β_3 x_3 $$ or $$μ=e^(β_0+β_1 x_1+β_2 x_2+β_3 x_3) $$\n",
    "By doing the above we are linearizing the relationship the non-linear relationship between y and x\n",
    "\n",
    "The **Poisson distribution** is a discrete probability distribution (hence good to use for count data) that describes the probability of a given number of events occurring in a fixed interval of time or space, given the average rate of occurrence of the events. It is used to model the count of rare events, such as the number of phone calls received by a call center in an hour or the number of accidents on a highway in a day.\n",
    ">In probability theory, a discrete probability distribution is a probability distribution characterized by a countable set of possible values. This means that the random variable can only take on certain distinct values with a positive probability, and there are no other values between these possible values that can occur. Examples of discrete probability distributions include the binomial distribution, the Poisson distribution, and the geometric distribution.\n",
    "\n",
    "The Poisson distribution has several important properties (or **assumptions***, that we want to keep in mind and not violate), including:\n",
    "* The **mean and variance of the distribution are equal**.\n",
    "* The distribution is skewed to the right if mean is small, and becomes more symmetric as mean increases (check out this [page](https://statdist.com/distributions/poisson)\n",
    "* The distribution is unbounded on the right, i.e there is a non-zero probability of observing an arbitrarily large number of events in the right side of distribution.\n",
    "* The distribution is often used to **model count data (positive integers)**, but it assumes that the **events are independent and occur randomly, with a constant rate of occurrence**.\n",
    "\n",
    "The `glm()` can help do the generalized linear model and if we specify `family = \"Poisson\"` we are telling the glm to use the poisson link function in the model. [Here](https://www.dataquest.io/blog/tutorial-poisson-regression-in-r/) is a good page for a lot more details. And also, this [Wikipedia page](https://en.wikipedia.org/wiki/Generalized_linear_model)\n",
    "\n",
    "I am going to start with only one numerical variable, the program's prestige and go from there. But let's take a look at the pairwise scatter plot of all variables and a correlation between articles and prestige, then move on with the modeling."
   ]
  },
  {
   "cell_type": "code",
   "execution_count": null,
   "id": "83f2149d",
   "metadata": {},
   "outputs": [],
   "source": [
    "options(repr.plot.width=10, repr.plot.height=10)\n",
    "plot(PhDPublications)"
   ]
  },
  {
   "cell_type": "markdown",
   "id": "e3d70787",
   "metadata": {},
   "source": [
    "Looks like number of articles a student has might have a positive relationship with marital status (like we saw before), prestige, and the number of articles their mentor had. On the contrary it looks like there is negative relationship between the articles and number of kids! Oh those kids troubling their parents!"
   ]
  },
  {
   "cell_type": "code",
   "execution_count": null,
   "id": "4cf46320",
   "metadata": {},
   "outputs": [],
   "source": [
    "plot(PhDPublications$prestige, PhDPublications$articles, xlab=\"prestige\", ylab=\"number of articles\")"
   ]
  },
  {
   "cell_type": "code",
   "execution_count": null,
   "id": "6c1c2a88",
   "metadata": {},
   "outputs": [],
   "source": [
    "cor(PhDPublications$articles, PhDPublications$prestige)\n",
    "cor(PhDPublications$articles, PhDPublications$prestige, method = \"spearman\")\n",
    "cor(PhDPublications$articles, PhDPublications$prestige, method = \"kendall\")"
   ]
  },
  {
   "cell_type": "markdown",
   "id": "db3d4db5",
   "metadata": {},
   "source": [
    "Based on the correlations above, I don't see a lot of relationship but worth a shot right?!\n",
    "> Correlation between two variables is a statistical measure that indicates the extent to which two variables are related. It is a measure of the strength and direction of the linear relationship between two variables. The correlation coefficient ranges from -1 to 1, with -1 indicating a perfect negative correlation and 1 indicating a perfect positive correlation. If the relationship between two variables is non-linear, I can use a different measure of association such as *Spearman's rank correlation coefficient* or *Kendall's tau*.\n",
    "\n",
    "## Poisson Model 1 - Single Predictor"
   ]
  },
  {
   "cell_type": "code",
   "execution_count": null,
   "id": "4306a224",
   "metadata": {},
   "outputs": [],
   "source": [
    "Poisson.fit1 = glm(articles ~ prestige, \n",
    "                   data = PhDPublications,\n",
    "                   family = \"poisson\")\n",
    "summary(Poisson.fit1)\n",
    "print(describe(Poisson.fit1$residuals))"
   ]
  },
  {
   "cell_type": "markdown",
   "id": "57caaa63",
   "metadata": {},
   "source": [
    "Deviance residuals are typically used for model diagnostics and evaluation by helping identify potential outliers or influential data points in the model. Deviance residuals are the difference between predicted values from the model and the observed values, measured in terms of the deviance. See this [page](https://www.datascienceblog.net/post/machine-learning/interpreting_generalized_linear_models/) for details.\n",
    "Null deviance is the same concept as the total sum squares in the linear regression and the residual deviance is the same concept as the SSE or the residual sum squares. In simple terms: The null deviance shows how well the response is predicted by the model with nothing but an intercept. The residual deviance shows how well the response is predicted by the model including the predictors. The DF is number of observations - number of estimates the model is doing (intercept + any variables included)\n",
    "> The residual deviance represents the unexplained variation in the response variable that remains after accounting for the explanatory variables in the model. A smaller residual deviance indicates a better fit of the model to the data.\n",
    "\n",
    "Now, let's run some diagnostics on the model and check assumptions or see if any crazy stuff happening!"
   ]
  },
  {
   "cell_type": "code",
   "execution_count": null,
   "id": "91089c44",
   "metadata": {},
   "outputs": [],
   "source": [
    "options(repr.plot.width=15, repr.plot.height=15)\n",
    "par(mfrow = c(2,2)); plot(Poisson.fit1); par(mfrow = c(1,1))"
   ]
  },
  {
   "cell_type": "markdown",
   "id": "dbe1af96",
   "metadata": {},
   "source": [
    "The top left plot is the **Residual plots** helps check for nonlinearity, heteroscadasticity (non-constant variance), and outliers in the model residuals. The residuals *should be randomly scattered around zero, with no patterns or trends, indicating that the model is a good fit* for the data. If there is a pattern in the residuals, this suggests that the model is not capturing some of the information in the data. In my case above, I don't see a certain trend or pattern in the data except that it looks like it's getting wider from left to right! meaning the variation is the residuals goes up as the predicted value increase, telling me there is not a constant variance (homoscedasticity). Also remember mean = variance = constant in Poisson distribution. I can also see there are a few outliers (which we also observed in previous steps - maybe I will remove them! and redo stuff). \n",
    "\n",
    "QQ plots on the top right are often used to check the normality assumption of a data set, which I already know is not true for my count data. If the data follows a normal distribution, the points on the plot should fall along a straight line. Any deviation from this line indicates that the data is not normally distributed. Obviously it's not, in my case! \n",
    "\n",
    "Bottom left graph is also another type of residual plot similar to the first one that is commonly used to assess the assumption of homoscedasticity in regression models. The *standardized Pearson residuals are the residuals of the model divided by their estimated standard deviation*. The square root of the absolute value of these residuals is then plotted against the predicted values from the model. If the model satisfies the assumption of homoscedasticity, the plot should show a random scatter of points around zero with no discernible pattern. Just like the first graph again, if there is a discernible pattern in the plot, it suggests that the assumption of homoscedasticity has been violated. In this case, the funnel shape is even more obvious on this one, suggesting the the residuals are not showing a constant variance (which means is different from the mean too).\n",
    "\n",
    "Influence plots, which can help you to identify influential observations that are having a large effect on the model fit. Same outlier points show up in here too. Looking at the data, it seems out of 915 observations there are 9 observation with with more than 7 articles. I will remove these from data and rework! but before I do it, curious how the histogram of the predicted values from this model compares to the observed values! Not what I expected!"
   ]
  },
  {
   "cell_type": "code",
   "execution_count": null,
   "id": "95d730cc",
   "metadata": {},
   "outputs": [],
   "source": [
    "options(repr.plot.width=15, repr.plot.height=8)\n",
    "par(mfrow = c(1,2)); hist(PhDPublications$articles, breaks = 25, main = \"Histogram of observed values\") \n",
    "hist(Poisson.fit1$fitted.values, main = \"Histogram of predicted values\"); par(mfrow = c(1,1))"
   ]
  },
  {
   "cell_type": "code",
   "execution_count": 5,
   "id": "606e49ff",
   "metadata": {},
   "outputs": [
    {
     "data": {
      "text/plain": [
       ".\n",
       "  0   1   2   3   4   5   6   7   8   9  10  11  12  16  19 \n",
       "275 246 178  84  67  27  17  12   1   2   1   1   2   1   1 "
      ]
     },
     "metadata": {},
     "output_type": "display_data"
    },
    {
     "data": {
      "text/plain": [
       "\n",
       "Call:\n",
       "glm(formula = articles ~ prestige, family = \"poisson\", data = PhDPublicationsClean)\n",
       "\n",
       "Deviance Residuals: \n",
       "    Min       1Q   Median       3Q      Max  \n",
       "-1.9628  -1.6637  -0.3663   0.5374   3.4138  \n",
       "\n",
       "Coefficients:\n",
       "            Estimate Std. Error z value Pr(>|z|)    \n",
       "(Intercept)  0.04930    0.09152   0.539     0.59    \n",
       "prestige     0.13123    0.02711   4.841 1.29e-06 ***\n",
       "---\n",
       "Signif. codes:  0 '***' 0.001 '**' 0.01 '*' 0.05 '.' 0.1 ' ' 1\n",
       "\n",
       "(Dispersion parameter for poisson family taken to be 1)\n",
       "\n",
       "    Null deviance: 1574.0  on 905  degrees of freedom\n",
       "Residual deviance: 1550.3  on 904  degrees of freedom\n",
       "AIC: 3183.5\n",
       "\n",
       "Number of Fisher Scoring iterations: 5\n"
      ]
     },
     "metadata": {},
     "output_type": "display_data"
    },
    {
     "name": "stdout",
     "output_type": "stream",
     "text": [
      "   vars   n mean   sd median trimmed  mad min  max range skew kurtosis   se\n",
      "X1    1 906    0 1.01  -0.29   -0.15 1.05  -1 4.15  5.15 1.15     0.97 0.03\n"
     ]
    },
    {
     "data": {
      "image/png": "[encoded data removed]",
      "text/plain": [
       "Plot with title \"\""
      ]
     },
     "metadata": {
      "image/png": {
       "height": 420,
       "width": 420
      }
     },
     "output_type": "display_data"
    }
   ],
   "source": [
    "PhDPublications$articles %>% table        # frequency table of number of observations per number of articles\n",
    "PhDPublicationsClean <- PhDPublications %>%   # define new data (remove outliers - those observations with 8+ articles)\n",
    "     filter(articles<8)\n",
    "\n",
    "Poisson.fit1.clean = glm(articles ~ prestige, \n",
    "                   data = PhDPublicationsClean,\n",
    "                   family = \"poisson\")\n",
    "summary(Poisson.fit1.clean)\n",
    "\n",
    "par(mfrow = c(2,2)); plot(Poisson.fit1.clean); par(mfrow = c(1,1))\n",
    "print(describe(Poisson.fit1.clean$residuals))"
   ]
  },
  {
   "cell_type": "markdown",
   "id": "fdede95c",
   "metadata": {},
   "source": [
    "Big difference in the model estimates now! Let's see what the histogram of the predicted values from this model looks like: Still nothing acceptable. The predicted values are all over the place."
   ]
  },
  {
   "cell_type": "code",
   "execution_count": 18,
   "id": "2b5bf0f5",
   "metadata": {},
   "outputs": [
    {
     "data": {
      "image/png": "[encoded data removed]",
      "text/plain": [
       "Plot with title \"Poisson Model - 1 Variable\""
      ]
     },
     "metadata": {
      "image/png": {
       "height": 600,
       "width": 900
      }
     },
     "output_type": "display_data"
    }
   ],
   "source": [
    "options(repr.plot.width=15, repr.plot.height=10)\n",
    "par(mfrow = c(2,1)); \n",
    "hist(PhDPublicationsClean$articles, \n",
    "     breaks = 25, \n",
    "     main = \"Original Data\",\n",
    "    xlab = \"Number of articles - Observed\") \n",
    "hist(Poisson.fit1.clean$fitted.values, \n",
    "     main = \"Poisson Model - 1 Variable\",\n",
    "    xlab = \"Number of articles - Predicted\")\n",
    "par(mfrow = c(1,1))"
   ]
  },
  {
   "cell_type": "markdown",
   "id": "83bf1b54",
   "metadata": {},
   "source": [
    "So that was the model with 1 numerical continous independent variable. Let's improve the model by introducing additional explanatory variables in the model and see how much the model improves and if the new redictors are also statistically significant.\n",
    "\n",
    "## Poisson Model 2 - Multiple Predictors"
   ]
  },
  {
   "cell_type": "code",
   "execution_count": 20,
   "id": "f5c14f12",
   "metadata": {},
   "outputs": [
    {
     "data": {
      "text/plain": [
       "\n",
       "Call:\n",
       "glm(formula = articles ~ . - married, family = \"poisson\", data = PhDPublicationsClean)\n",
       "\n",
       "Deviance Residuals: \n",
       "    Min       1Q   Median       3Q      Max  \n",
       "-2.5744  -1.5520  -0.3330   0.5656   3.5978  \n",
       "\n",
       "Coefficients:\n",
       "              Estimate Std. Error z value Pr(>|z|)    \n",
       "(Intercept)   0.208325   0.098102   2.124 0.033708 *  \n",
       "genderfemale -0.178876   0.055616  -3.216 0.001299 ** \n",
       "kids         -0.137411   0.037969  -3.619 0.000296 ***\n",
       "prestige      0.062939   0.027810   2.263 0.023625 *  \n",
       "mentor        0.020565   0.002275   9.039  < 2e-16 ***\n",
       "---\n",
       "Signif. codes:  0 '***' 0.001 '**' 0.01 '*' 0.05 '.' 0.1 ' ' 1\n",
       "\n",
       "(Dispersion parameter for poisson family taken to be 1)\n",
       "\n",
       "    Null deviance: 1574.0  on 905  degrees of freedom\n",
       "Residual deviance: 1460.9  on 901  degrees of freedom\n",
       "AIC: 3100.1\n",
       "\n",
       "Number of Fisher Scoring iterations: 5\n"
      ]
     },
     "metadata": {},
     "output_type": "display_data"
    },
    {
     "name": "stdout",
     "output_type": "stream",
     "text": [
      "   vars   n mean sd median trimmed  mad min  max range skew kurtosis   se\n",
      "X1    1 906    0  1  -0.27   -0.15 1.09  -1 4.76  5.76 1.12        1 0.03\n"
     ]
    },
    {
     "data": {
      "image/png": "[encoded data removed]",
      "text/plain": [
       "Plot with title \"\""
      ]
     },
     "metadata": {
      "image/png": {
       "height": 600,
       "width": 900
      }
     },
     "output_type": "display_data"
    }
   ],
   "source": [
    "Poisson.fit2 = glm(articles ~ . - married,\n",
    "                   data = PhDPublicationsClean,\n",
    "                   family = \"poisson\") ; summary(Poisson.fit2)\n",
    "par(mfrow = c(2,2)); plot(Poisson.fit2); par(mfrow = c(1,1))\n",
    "print(describe(Poisson.fit2$residuals))"
   ]
  },
  {
   "cell_type": "markdown",
   "id": "1313e3e9",
   "metadata": {},
   "source": [
    "I ran the model with all the variables and the binary variable Married showing marital status was not statistically significant and I removed it from the model. I looked the `married` variable individually in the model and I ended with the same results. \n",
    "**Some observations to point out:**\n",
    "- It does not appear that being married would have an effect the number of articles you publish but if you have kids, it seems to be different story. It seems that with everything controlled for, every child, drops by a factor of 1/e^(0.137)≈ 0.87\n",
    "- The model estimates shows a negative estimate for the coefficient of gender: being female shows a negative effect on articles published while the higher the prestige of the program and the higher the number of articles published by the mentor have positive effect on the predicted values for a person's published articles.\n",
    "- The residual deviance and AIC has improved compared the model with one variable (prestige) (the lower these metrics, the better the model, supposedly)\n",
    "\n",
    "Let's see the histograms of the predicted values in the two models. This time, the histogram of the last model looks more like the observed ihstogram of the response values. We're doing better now."
   ]
  },
  {
   "cell_type": "code",
   "execution_count": 17,
   "id": "65df38f2",
   "metadata": {},
   "outputs": [
    {
     "data": {
      "image/png": "[encoded data removed]",
      "text/plain": [
       "Plot with title \"Poisson Model - Multiple variables\""
      ]
     },
     "metadata": {
      "image/png": {
       "height": 600,
       "width": 900
      }
     },
     "output_type": "display_data"
    }
   ],
   "source": [
    "options(repr.plot.width=15, repr.plot.height=10)\n",
    "par(mfrow = c(3,1)); \n",
    "hist(PhDPublicationsClean$articles, \n",
    "     breaks = 25, \n",
    "     main = \"Original Data\",\n",
    "    xlab = \"Number of articles - Observed\") \n",
    "hist(Poisson.fit1.clean$fitted.values, \n",
    "     main = \"Poisson Model - 1 Variable\",\n",
    "    xlab = \"Number of articles - Predicted\")\n",
    "hist(Poisson.fit2$fitted.values, \n",
    "     breaks = 25, \n",
    "     main = \"Poisson Model - Multiple variables\",\n",
    "    xlab = \"Number of articles - Predicted\")\n",
    "par(mfrow = c(1,1))"
   ]
  },
  {
   "attachments": {},
   "cell_type": "markdown",
   "id": "e0c4c48f",
   "metadata": {},
   "source": [
    "## Overdispersion\n",
    "One major assumption in the Possion model seems to be violated in both of the models done so far; and that is the assumption of mean = variance. I talked about this before that the response variable in our data does not have the varinace and mean equal to each other. \n",
    "\n",
    "In the context of modeling count data, **overdispersion** refers to a situation where the observed variance of the data is larger than what is predicted by the assumed probability distribution. For example, if the data are modeled using a Poisson distribution but the variance of the data is larger than the mean, this indicates overdispersion. \n",
    "    \n",
    "> Overdispersion can also occur in other types of models, such as logistic regression, where the variance of the data is not consistent with the assumed distribution. Overdispersion can lead to biased estimates and incorrect statistical inference, and it is often necessary to account for overdispersion when modeling count data. One way to do this is to use a different distribution, such as the negative binomial distribution, which can account for overdispersion. In other words, Overdispersion does not change the way `glm` estimates the coefficients but it affects the standard errors of those coefficient estimates. It will cause them to be underestimated which would in effect cause the p-values to be small and therefore false statistical significance for those explanatory variables (false positives - Type I error). The higher the overdispersion, the more underestimation for the standard errors (an inflated Type I error). \n",
    "\n",
    "There are several ways to check for overdispersion in the data:\n",
    "1. The ratio of the variance to the mean: One common approach is to calculate the ratio of the variance to the mean. If this ratio is greater than 1, it suggests overdispersion.\n",
    "2. Deviance goodness-of-fit test: This test compares the deviance of the fitted model to the deviance of the saturated model, which is the model that perfectly fits the data. If the deviance is significantly larger than that of the saturated model, it suggests overdispersion.\n",
    "3. Pearson's chi-square goodness-of-fit test: This test compares the Pearson's chi-square statistic of the fitted model to the chi-square distribution with degrees of freedom equal to the number of observations minus the number of parameters estimated. If the chi-square statistic is significantly larger than the critical value, it suggests overdispersion.\n",
    "4. Residual analysis: Plotting the residuals against the fitted values can also help to detect overdispersion. If the residuals are more spread out than what is expected under the assumed model, it suggests overdispersion.\n",
    "\t\t\t\n",
    "Overdispersion can occur when the variance of the data is greater than the mean in a Poisson model. In general, if the dispersion parameter (theta) estimated in a negative binomial regression model is significantly greater than zero, it indicates that the data has overdispersion and a Poisson model is not appropriate. There is no specific threshold or cutoff value for the dispersion parameter to indicate overdispersion as it depends on the context and the specific dataset.\n",
    "\n",
    "Now question is if overdispersion was the reason for why all but one variable to be found statistically significant in the Poisson model?"
   ]
  },
  {
   "cell_type": "code",
   "execution_count": 30,
   "id": "3ca0e409",
   "metadata": {},
   "outputs": [
    {
     "name": "stdout",
     "output_type": "stream",
     "text": [
      "For the counts in the cleaned database \n",
      "variance:  2.610731 \n",
      "mean:  1.592715"
     ]
    }
   ],
   "source": [
    "cat('For the counts in the cleaned database','\\nvariance: ', \n",
    "      var(PhDPublicationsClean$articles), \n",
    "      '\\nmean: ', \n",
    "      mean(PhDPublicationsClean$articles)\n",
    "      )"
   ]
  },
  {
   "cell_type": "markdown",
   "id": "46c47824",
   "metadata": {},
   "source": [
    "## Negative Binomial Model - Multiple Predictors"
   ]
  },
  {
   "cell_type": "code",
   "execution_count": null,
   "id": "b28cdc6c",
   "metadata": {},
   "outputs": [],
   "source": []
  },
  {
   "cell_type": "code",
   "execution_count": null,
   "id": "590aad31",
   "metadata": {},
   "outputs": [],
   "source": []
  },
  {
   "cell_type": "code",
   "execution_count": null,
   "id": "67392e48",
   "metadata": {},
   "outputs": [],
   "source": []
  },
  {
   "cell_type": "code",
   "execution_count": null,
   "id": "b94f3d9a",
   "metadata": {},
   "outputs": [],
   "source": []
  }
 ],
 "metadata": {
  "kernelspec": {
   "display_name": "R",
   "language": "R",
   "name": "ir"
  },
  "language_info": {
   "codemirror_mode": "r",
   "file_extension": ".r",
   "mimetype": "text/x-r-source",
   "name": "R",
   "pygments_lexer": "r",
   "version": "4.2.2"
  }
 },
 "nbformat": 4,
 "nbformat_minor": 5
}
