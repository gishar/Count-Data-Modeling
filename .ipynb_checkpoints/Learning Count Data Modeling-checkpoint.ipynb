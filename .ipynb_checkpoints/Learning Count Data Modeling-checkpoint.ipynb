{
 "cells": [
  {
   "cell_type": "markdown",
   "id": "5ec46b9d",
   "metadata": {},
   "source": [
    "# Introduction\n",
    "It is my intention in this file to teach myself about count data models and the ins and outs of this type of regression modeling with some examples and discussions of what is what and what they mean. Fingers crossed! I will then try to apply what I learned to traffic crash data in order to develop safety performance functions per the guidelines in [HSM](https://www.highwaysafetymanual.org/Pages/default.aspx)"
   ]
  },
  {
   "cell_type": "markdown",
   "id": "7be34ea6",
   "metadata": {},
   "source": [
    "# Types of Models\n",
    "Alright, so a little intro for myself on the various types of models on the data and why and how count models are different from the rest!\n",
    "Obviously there area ton of modeling techniques, and what choice of model to use depends on the nature of the data and the research question you're dealing with. For example, \n",
    "1. Linear regression: To model the relationship between a **continuous dependent variable** and one or more independent variables.\n",
    "2. Logistic regression: To model a **binary or categorical dependent variable** where the goal is to predict the probability of a certain outcome.\n",
    "3. Poisson regression: To model **count data** where the goal is to predict the rate at which events occur.\n",
    "4. Negative binomial regression, NB in short: To model **over-dispersed count data** where simple Poisson modeling technique is not reliable due to limitation in the modeling assumptions.\n",
    "5. Time series analysis: To model **data that changes over time**, such as stock prices or weather patterns.\n",
    "6. Survival analysis: To model the **time until an event occurs**, such as time until a patient dies or time until a machine fails.\n",
    "7. Random forest: An ML technique to model **complex relationships between variables** usually where there are many independent variables.\n",
    "8. Neural networks: Also an ML technique used to model **complex relationships between variables** similar to random forest for when there are many independent variables.\n",
    "\n",
    "Why I am doing count modeling (i.e. will be doing # 3 and 4 and maybe others from above) is because that is my professional subject area with regards to traffic crash counts and how to predict them based on various types of categories which will come up later on.\n",
    "\n",
    "So, I know that linear regression is not my modeling technique becasue <u>count data is discrete, non-negative, and often follows a skewed distribution</u>. <u>Linear regression models assume that the dependent variable is continuous and normally distributed</u>, which is not the case for count data. Using linear regression for count data violates the assumptions of the model, leading to biased and inefficient estimates, incorrect standard errors, and unreliable hypothesis tests. Furthermore, the predicted values can be negative, which is not possible for count data.\n",
    "\n",
    "I also know that I can't use logistic regression for count data because that model assumes that the response variable follows a *Bernoulli distribution*, which is a discrete probability distribution that models the probability of a single event occurring in a single trial. But, count data often follows a Poisson or negative binomial distribution.\n",
    "\n",
    "Nonetheless, let's pull in some count data and try various models and discuss results."
   ]
  },
  {
   "cell_type": "markdown",
   "id": "a5e16911",
   "metadata": {},
   "source": [
    "# Importing Libraries\n",
    "I update this section every time I need to import a new library as I make progress. I just have an obsession to do all of the imports in one place rather than sporadically throughout my work."
   ]
  },
  {
   "cell_type": "code",
   "execution_count": null,
   "id": "ac8178fa",
   "metadata": {},
   "outputs": [],
   "source": [
    "# Loading multiple libraries as needed in one line\n",
    "lapply(c(\"tidyverse\"), require, character.only = T)"
   ]
  },
  {
   "cell_type": "markdown",
   "id": "6238d4bf",
   "metadata": {},
   "source": [
    "Here are some datasets I found that can come handy: \n",
    "- A count dataset from this [Kaggle Page](https://www.kaggle.com/datasets/pablomonleon/montreal-bike-lanes) that contains information on the number of bicycles that used certain bicycle lanes in Montreal in the year 2015. I removed a couple columns and changed some of the names for simplicity.\n",
    "\n",
    "- A [roadway inventory dataset](https://geo-massdot.opendata.arcgis.com/datasets/MassDOT::road-inventory/about) from MassDOT's open data website. This data includes annual average daily tarffic (AADT) for various roads in MA along with other road properties for each segment. I made the data much lighter to handle by removing many rows some variables for the sake of my learning.\n",
    "\n",
    "Also, this [page](https://stats.stackexchange.com/questions/452710/count-poisson-regression-dataset) has awesome ideas on what count data to use."
   ]
  },
  {
   "cell_type": "code",
   "execution_count": 27,
   "id": "f4a6fd51",
   "metadata": {},
   "outputs": [
    {
     "data": {
      "text/plain": [
       "   Min. 1st Qu.  Median    Mean 3rd Qu.    Max. \n",
       "    350   54301   82094   86006  109716  244323 "
      ]
     },
     "metadata": {},
     "output_type": "display_data"
    }
   ],
   "source": [
    "bikes  <-  read.csv(\"MontrealBL.csv\")\n",
    "aadt  <- read.csv(\"RoadInventorysample.csv\")\n",
    "aadt <- aadt[complete.cases(aadt$AADT),]\n",
    "summary(aadt$AADT)"
   ]
  },
  {
   "cell_type": "code",
   "execution_count": 26,
   "id": "1e16b621",
   "metadata": {},
   "outputs": [
    {
     "data": {
      "image/png": "[encoded data removed]",
      "text/plain": [
       "Plot with title \"Histogram of sample(aadt$AADT, 1000)\""
      ]
     },
     "metadata": {
      "image/png": {
       "height": 420,
       "width": 420
      }
     },
     "output_type": "display_data"
    }
   ],
   "source": []
  },
  {
   "cell_type": "code",
   "execution_count": null,
   "id": "40b260df",
   "metadata": {},
   "outputs": [],
   "source": []
  },
  {
   "cell_type": "code",
   "execution_count": null,
   "id": "f1b7a42a",
   "metadata": {},
   "outputs": [],
   "source": []
  },
  {
   "cell_type": "code",
   "execution_count": null,
   "id": "4306a224",
   "metadata": {},
   "outputs": [],
   "source": []
  }
 ],
 "metadata": {
  "kernelspec": {
   "display_name": "R",
   "language": "R",
   "name": "ir"
  },
  "language_info": {
   "codemirror_mode": "r",
   "file_extension": ".r",
   "mimetype": "text/x-r-source",
   "name": "R",
   "pygments_lexer": "r",
   "version": "4.2.2"
  }
 },
 "nbformat": 4,
 "nbformat_minor": 5
}
