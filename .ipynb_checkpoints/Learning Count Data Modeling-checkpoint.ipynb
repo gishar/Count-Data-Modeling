{
 "cells": [
  {
   "cell_type": "markdown",
   "id": "5ec46b9d",
   "metadata": {},
   "source": [
    "# Introduction\n",
    "It is my intention in this file to teach myself about count data models and the ins and outs of this type of regression modeling with some examples and discussions of what is what and what they mean. Fingers crossed! I will then try to apply what I learned to traffic crash data in order to develop safety performance functions per the guidelines in [HSM](https://www.highwaysafetymanual.org/Pages/default.aspx)"
   ]
  },
  {
   "cell_type": "markdown",
   "id": "7be34ea6",
   "metadata": {},
   "source": [
    "# Types of Models\n",
    "Alright, so a little intro for myself on the various types of models on the data and why and how count models are different from the rest!\n",
    "Obviously there area ton of modeling techniques, and what choice of model to use depends on the nature of the data and the research question you're dealing with. For example, \n",
    "1. Linear regression: To model the relationship between a **continuous dependent variable** and one or more independent variables.\n",
    "2. Logistic regression: To model a **binary or categorical dependent variable** where the goal is to predict the probability of a certain outcome.\n",
    "3. Poisson regression: To model **count data** where the goal is to predict the rate at which events occur.\n",
    "4. Negative binomial regression, NB in short: To model **over-dispersed count data** where simple Poisson modeling technique is not reliable due to limitation in the modeling assumptions.\n",
    "5. Time series analysis: To model **data that changes over time**, such as stock prices or weather patterns.\n",
    "6. Survival analysis: To model the **time until an event occurs**, such as time until a patient dies or time until a machine fails.\n",
    "7. Random forest: An ML technique to model **complex relationships between variables** usually where there are many independent variables.\n",
    "8. Neural networks: Also an ML technique used to model **complex relationships between variables** similar to random forest for when there are many independent variables.\n",
    "\n",
    "Why I am doing count modeling (i.e. will be doing # 3 and 4 and maybe others from above) is because that is my professional subject area with regards to traffic crash counts and how to predict them based on various types of categories which will come up later on.\n",
    "\n",
    "So, I know that linear regression is not my modeling technique becasue <u>count data is discrete, non-negative, and often follows a skewed distribution</u>. <u>Linear regression models assume that the dependent variable is continuous and normally distributed</u>, which is not the case for count data. Using linear regression for count data violates the assumptions of the model, leading to biased and inefficient estimates, incorrect standard errors, and unreliable hypothesis tests. Furthermore, the predicted values can be negative, which is not possible for count data.\n",
    "\n",
    "I also know that I can't use logistic regression for count data because that model assumes that the response variable follows a *Bernoulli distribution*, which is a discrete probability distribution that models the probability of a single event occurring in a single trial. But, count data often follows a Poisson or negative binomial distribution.\n",
    "\n",
    "Nonetheless, let's pull in some count data and try various models and discuss results."
   ]
  },
  {
   "cell_type": "markdown",
   "id": "a5e16911",
   "metadata": {},
   "source": [
    "# Importing Libraries / Setting Options\n",
    "I update this section every time I need to import a new library as I make progress. I just have an obsession to do all of the imports and options for how to show numbers, digits, outputs in one place rather than sporadically throughout my work."
   ]
  },
  {
   "cell_type": "code",
   "execution_count": null,
   "id": "ac8178fa",
   "metadata": {},
   "outputs": [],
   "source": [
    "# Loading multiple libraries as needed in one line\n",
    "lapply(c(\"tidyverse\", \"AER\", \"psych\"), require, character.only = T)\n",
    "\n",
    "# Have enough width for output so some are not shifted to next line!\n",
    "options(width = 120)"
   ]
  },
  {
   "cell_type": "code",
   "execution_count": 29,
   "id": "36ed9e40",
   "metadata": {},
   "outputs": [],
   "source": [
    "# Specify number of significant decimal digits when printing output\n",
    "options(digits = 3)"
   ]
  },
  {
   "cell_type": "markdown",
   "id": "6238d4bf",
   "metadata": {},
   "source": [
    "Here are several count data that can come handy, although I am not using all of them. Just writing them down for reference:\n",
    "- Number of rooms data from the Boston dataset in `MASS` library\n",
    "- Number of seizures for Epileptics from Epil datasets in `MASS` library\n",
    "- Number of sattelite (unpaired) crabs from the Crabs dataset in `glmbb` library\n",
    "- Number of claims from Insurance dataset in `countreg` library\n",
    "- Number of affairs from Affairs dataset in `AER` library (AER for Applied Econometrics with R)\n",
    "- Number of visits from DoctorVisits dataset in `AER` library\n",
    "- Number of doctor visits from Medicaid1986 dataset in `AER` library\n",
    "- Number of accidents from ShipAccidents dataset in `AER` library\n",
    "- Number of derogetory reports from the CreditCard dataset in `AER` library\n",
    "- Number of articles from PhDPublications dataset in `AER` library\n",
    "- Number of kids from GSS7402 dataset in `AER` library\n",
    "- Several count variables in NMES1988 dataset (medical care) `AER` library\n",
    "- Several count variables in EquationCitations datasets in `AER` library\n",
    "- A count dataset from this [Kaggle Page](https://www.kaggle.com/datasets/pablomonleon/montreal-bike-lanes) that contains information on the Number of bicycles that used certain bicycle lanes in Montreal in the year 2015. I removed a couple columns and changed some of the names for simplicity.\n",
    "- A [roadway inventory dataset](https://geo-massdot.opendata.arcgis.com/datasets/MassDOT::road-inventory/about) from MassDOT's open data website. This data includes annual average daily tarffic (AADT) for various roads in MA along with other road properties for each segment. I made the data much lighter to handle by removing many rows some variables for the sake of my learning.\n",
    "\n",
    "I am going to use the PhDPublications dataset to start my count modeling with."
   ]
  },
  {
   "cell_type": "code",
   "execution_count": 3,
   "id": "f4a6fd51",
   "metadata": {},
   "outputs": [],
   "source": [
    "bikes  <-  read.csv(\"MontrealBL.csv\")\n",
    "aadt  <- read.csv(\"RoadInventorysample.csv\")\n",
    "aadt <- aadt[complete.cases(aadt$AADT),]\n",
    "data(\"PhDPublications\")"
   ]
  },
  {
   "cell_type": "markdown",
   "id": "dd245745",
   "metadata": {},
   "source": [
    "First, let's look at the dataset, the variables and their types in the PhDPublications dataset. Then Let's take a quick look at some descriptive statistics about these variables and some visualization to know our data better as well."
   ]
  },
  {
   "cell_type": "code",
   "execution_count": 11,
   "id": "1e16b621",
   "metadata": {},
   "outputs": [
    {
     "name": "stdout",
     "output_type": "stream",
     "text": [
      "  articles gender married kids prestige mentor\n",
      "1        0   male     yes    0     2.52      7\n",
      "2        0 female      no    0     2.05      6\n",
      "3        0 female      no    0     3.75      6\n"
     ]
    }
   ],
   "source": [
    "print(head(PhDPublications, 3)) # I like using print but don't have to"
   ]
  },
  {
   "cell_type": "markdown",
   "id": "f92efaf2",
   "metadata": {},
   "source": [
    "There is the number `articles` (my count variable!). Then there are the binary variables of `gender` and `married`. There is another count variable `kids` which in this context is more like an explanatory variable than response. `prestige` is a continuous variable tha shows the prestige score of the program, and `mentor` is another nice count variable which shows the articles count published by the student's mentor."
   ]
  },
  {
   "cell_type": "code",
   "execution_count": 12,
   "id": "1276a6ac",
   "metadata": {},
   "outputs": [
    {
     "name": "stdout",
     "output_type": "stream",
     "text": [
      "Rows: 915\n",
      "Columns: 6\n",
      "$ articles \u001b[3m\u001b[90m<int>\u001b[39m\u001b[23m 0, 0, 0, 0, 0, 0, 0, 0, 0, 0, 0, 0, 0, 0, 0, 0, 0, 0, 0, 0, 0…\n",
      "$ gender   \u001b[3m\u001b[90m<fct>\u001b[39m\u001b[23m male, female, female, male, female, female, female, male, mal…\n",
      "$ married  \u001b[3m\u001b[90m<fct>\u001b[39m\u001b[23m yes, no, no, yes, no, yes, no, yes, no, yes, no, no, yes, yes…\n",
      "$ kids     \u001b[3m\u001b[90m<int>\u001b[39m\u001b[23m 0, 0, 0, 1, 0, 2, 0, 2, 0, 0, 0, 0, 1, 0, 0, 0, 0, 2, 0, 0, 0…\n",
      "$ prestige \u001b[3m\u001b[90m<dbl>\u001b[39m\u001b[23m 2.520, 2.050, 3.750, 1.180, 3.750, 3.590, 3.190, 2.960, 4.620…\n",
      "$ mentor   \u001b[3m\u001b[90m<int>\u001b[39m\u001b[23m 7, 6, 6, 3, 26, 2, 3, 4, 6, 0, 14, 13, 3, 4, 0, 1, 7, 13, 7, …\n"
     ]
    }
   ],
   "source": [
    "glimpse(PhDPublications)"
   ]
  },
  {
   "cell_type": "code",
   "execution_count": 31,
   "id": "96bff3a7",
   "metadata": {},
   "outputs": [
    {
     "data": {
      "text/plain": [
       "    articles        gender    married        kids          prestige        mentor    \n",
       " Min.   : 0.00   male  :494   no :309   Min.   :0.000   Min.   :0.75   Min.   : 0.0  \n",
       " 1st Qu.: 0.00   female:421   yes:606   1st Qu.:0.000   1st Qu.:2.26   1st Qu.: 3.0  \n",
       " Median : 1.00                          Median :0.000   Median :3.15   Median : 6.0  \n",
       " Mean   : 1.69                          Mean   :0.495   Mean   :3.10   Mean   : 8.8  \n",
       " 3rd Qu.: 2.00                          3rd Qu.:1.000   3rd Qu.:3.92   3rd Qu.:12.0  \n",
       " Max.   :19.00                          Max.   :3.000   Max.   :4.62   Max.   :77.0  "
      ]
     },
     "metadata": {},
     "output_type": "display_data"
    }
   ],
   "source": [
    "summary(PhDPublications)"
   ]
  },
  {
   "cell_type": "code",
   "execution_count": 30,
   "id": "476895b3",
   "metadata": {},
   "outputs": [
    {
     "name": "stdout",
     "output_type": "stream",
     "text": [
      "         vars   n mean   sd median trimmed  mad  min   max range  skew kurtosis   se\n",
      "articles    1 915 1.69 1.93   1.00    1.39 1.48 0.00 19.00 19.00  2.51    12.63 0.06\n",
      "gender*     2 915 1.46 0.50   1.00    1.45 0.00 1.00  2.00  1.00  0.16    -1.98 0.02\n",
      "married*    3 915 1.66 0.47   2.00    1.70 0.00 1.00  2.00  1.00 -0.69    -1.53 0.02\n",
      "kids        4 915 0.50 0.76   0.00    0.35 0.00 0.00  3.00  3.00  1.37     0.89 0.03\n",
      "prestige    5 915 3.10 0.98   3.15    3.13 1.32 0.75  4.62  3.86 -0.12    -1.08 0.03\n",
      "mentor      6 915 8.77 9.48   6.00    7.10 5.93 0.00 77.00 77.00  2.42     8.37 0.31\n"
     ]
    }
   ],
   "source": [
    "print(describe(PhDPublications))"
   ]
  },
  {
   "cell_type": "code",
   "execution_count": 38,
   "id": "c8ecee78",
   "metadata": {},
   "outputs": [
    {
     "name": "stdout",
     "output_type": "stream",
     "text": [
      "frequency table of the number of articles:"
     ]
    },
    {
     "data": {
      "text/plain": [
       "\n",
       "  0   1   2   3   4   5   6   7   8   9  10  11  12  16  19 \n",
       "275 246 178  84  67  27  17  12   1   2   1   1   2   1   1 "
      ]
     },
     "metadata": {},
     "output_type": "display_data"
    }
   ],
   "source": [
    "cat(\"frequency table of the number of articles:\")\n",
    "table(PhDPublications$articles)"
   ]
  },
  {
   "cell_type": "code",
   "execution_count": 41,
   "id": "7cd052e7",
   "metadata": {},
   "outputs": [
    {
     "data": {
      "image/png": "[encoded data removed]",
      "text/plain": [
       "Plot with title \"Frequency of Article Counts\""
      ]
     },
     "metadata": {
      "image/png": {
       "height": 420,
       "width": 420
      }
     },
     "output_type": "display_data"
    }
   ],
   "source": [
    "hist(PhDPublications$articles, \n",
    "     breaks = 30,\n",
    "     main = \"Frequency of Article Counts\",\n",
    "     col = 2,\n",
    "     xlab = \"Number of Articles\")"
   ]
  },
  {
   "cell_type": "code",
   "execution_count": null,
   "id": "7e8e7cd7",
   "metadata": {},
   "outputs": [],
   "source": []
  },
  {
   "cell_type": "markdown",
   "id": "71698efe",
   "metadata": {},
   "source": [
    "- Number of articles published by students vary between 0-19 with an average of ~ 1.7 and intersetingly. With median of smaller than mean and so large a range, this is skewed to the right distribution and the skew and kutosis shows this too.\n",
    "- Number of articles for the mentors vary between 0-77 with an average of ~ 8.8. \n",
    "- Number of kids was not so high with a max of 3\n",
    "\n",
    "Let's see how things are once grouped for gender and/or married but this time visually."
   ]
  },
  {
   "cell_type": "code",
   "execution_count": null,
   "id": "cdfe85b1",
   "metadata": {},
   "outputs": [],
   "source": []
  },
  {
   "cell_type": "code",
   "execution_count": null,
   "id": "9bf7ae69",
   "metadata": {},
   "outputs": [],
   "source": []
  },
  {
   "cell_type": "code",
   "execution_count": null,
   "id": "83b2e780",
   "metadata": {},
   "outputs": [],
   "source": []
  },
  {
   "cell_type": "code",
   "execution_count": null,
   "id": "40b260df",
   "metadata": {},
   "outputs": [],
   "source": []
  },
  {
   "cell_type": "code",
   "execution_count": null,
   "id": "f1b7a42a",
   "metadata": {},
   "outputs": [],
   "source": []
  },
  {
   "cell_type": "code",
   "execution_count": null,
   "id": "4306a224",
   "metadata": {},
   "outputs": [],
   "source": []
  },
  {
   "cell_type": "code",
   "execution_count": null,
   "id": "3fc9d618",
   "metadata": {},
   "outputs": [],
   "source": []
  },
  {
   "cell_type": "code",
   "execution_count": null,
   "id": "91089c44",
   "metadata": {},
   "outputs": [],
   "source": []
  },
  {
   "cell_type": "code",
   "execution_count": null,
   "id": "4eb1238e",
   "metadata": {},
   "outputs": [],
   "source": []
  },
  {
   "cell_type": "code",
   "execution_count": null,
   "id": "606e49ff",
   "metadata": {},
   "outputs": [],
   "source": []
  },
  {
   "cell_type": "code",
   "execution_count": null,
   "id": "35ef9c1e",
   "metadata": {},
   "outputs": [],
   "source": []
  },
  {
   "cell_type": "code",
   "execution_count": null,
   "id": "2b5bf0f5",
   "metadata": {},
   "outputs": [],
   "source": []
  },
  {
   "cell_type": "code",
   "execution_count": null,
   "id": "7cbfd2a6",
   "metadata": {},
   "outputs": [],
   "source": []
  },
  {
   "cell_type": "code",
   "execution_count": null,
   "id": "3ca0e409",
   "metadata": {},
   "outputs": [],
   "source": []
  },
  {
   "cell_type": "code",
   "execution_count": null,
   "id": "b94f3d9a",
   "metadata": {},
   "outputs": [],
   "source": []
  }
 ],
 "metadata": {
  "kernelspec": {
   "display_name": "R",
   "language": "R",
   "name": "ir"
  },
  "language_info": {
   "codemirror_mode": "r",
   "file_extension": ".r",
   "mimetype": "text/x-r-source",
   "name": "R",
   "pygments_lexer": "r",
   "version": "4.2.2"
  }
 },
 "nbformat": 4,
 "nbformat_minor": 5
}
