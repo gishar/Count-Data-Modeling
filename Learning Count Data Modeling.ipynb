{
 "cells": [
  {
   "cell_type": "markdown",
   "id": "5ec46b9d",
   "metadata": {},
   "source": [
    "# Introduction\n",
    "It is my intention in this file to teach myself about count data models and the ins and outs of this type of regression modeling with some examples and discussions of what is what and what they mean. Fingers crossed! I will then try to apply what I learned to traffic crash data in order to develop safety performance functions per the guidelines in [HSM](https://www.highwaysafetymanual.org/Pages/default.aspx)"
   ]
  },
  {
   "cell_type": "markdown",
   "id": "7be34ea6",
   "metadata": {},
   "source": [
    "# Types of Models\n",
    "Alright, so a little intro for myself on the various types of models on the data and why and how count models are different from the rest!\n",
    "Obviously there area ton of modeling techniques, and what choice of model to use depends on the nature of the data and the research question you're dealing with. For example, \n",
    "1. Linear regression: To model the relationship between a **continuous dependent variable** and one or more independent variables.\n",
    "2. Logistic regression: To model a **binary or categorical dependent variable** where the goal is to predict the probability of a certain outcome.\n",
    "3. Poisson regression: To model **count data** where the goal is to predict the rate at which events occur.\n",
    "4. Negative binomial regression, NB in short: To model **over-dispersed count data** where simple Poisson modeling technique is not reliable due to limitation in the modeling assumptions.\n",
    "5. Time series analysis: To model **data that changes over time**, such as stock prices or weather patterns.\n",
    "6. Survival analysis: To model the **time until an event occurs**, such as time until a patient dies or time until a machine fails.\n",
    "7. Random forest: An ML technique to model **complex relationships between variables** usually where there are many independent variables.\n",
    "8. Neural networks: Also an ML technique used to model **complex relationships between variables** similar to random forest for when there are many independent variables.\n",
    "\n",
    "Why I am doing count modeling (i.e. will be doing # 3 and 4 and maybe others from above) is because that is my professional subject area with regards to traffic crash counts and how to predict them based on various types of categories which will come up later on.\n",
    "\n",
    "So, I know that linear regression is not my modeling technique becasue <u>count data is discrete, non-negative, and often follows a skewed distribution</u>. <u>Linear regression models assume that the dependent variable is continuous and normally distributed</u>, which is not the case for count data. Using linear regression for count data violates the assumptions of the model, leading to biased and inefficient estimates, incorrect standard errors, and unreliable hypothesis tests. Furthermore, the predicted values can be negative, which is not possible for count data.\n",
    "\n",
    "I also know that i can't use logistic regression for count data because that model assumes that the response variable follows a *Bernoulli distribution*, which is a discrete probability distribution that models the probability of a single event occurring in a single trial. But, count data often follows a Poisson or negative binomial distribution."
   ]
  },
  {
   "cell_type": "code",
   "execution_count": null,
   "id": "1e16b621",
   "metadata": {},
   "outputs": [],
   "source": []
  },
  {
   "cell_type": "code",
   "execution_count": null,
   "id": "13a3717d",
   "metadata": {},
   "outputs": [],
   "source": []
  },
  {
   "cell_type": "markdown",
   "id": "a5e16911",
   "metadata": {},
   "source": [
    "# Importing Libraries\n",
    "I update this section every time I need to import a new library as I make progress. I just have an obsession to do all of the imports in one place rather than sporadically throughout my work."
   ]
  },
  {
   "cell_type": "code",
   "execution_count": null,
   "id": "ac8178fa",
   "metadata": {},
   "outputs": [],
   "source": []
  },
  {
   "cell_type": "code",
   "execution_count": null,
   "id": "f4a6fd51",
   "metadata": {},
   "outputs": [],
   "source": []
  },
  {
   "cell_type": "code",
   "execution_count": null,
   "id": "40b260df",
   "metadata": {},
   "outputs": [],
   "source": []
  },
  {
   "cell_type": "code",
   "execution_count": null,
   "id": "f1b7a42a",
   "metadata": {},
   "outputs": [],
   "source": []
  },
  {
   "cell_type": "code",
   "execution_count": null,
   "id": "4306a224",
   "metadata": {},
   "outputs": [],
   "source": []
  }
 ],
 "metadata": {
  "kernelspec": {
   "display_name": "R",
   "language": "R",
   "name": "ir"
  },
  "language_info": {
   "codemirror_mode": "r",
   "file_extension": ".r",
   "mimetype": "text/x-r-source",
   "name": "R",
   "pygments_lexer": "r",
   "version": "4.2.2"
  }
 },
 "nbformat": 4,
 "nbformat_minor": 5
}
